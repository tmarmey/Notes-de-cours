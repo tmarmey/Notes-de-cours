{
 "cells": [
  {
   "cell_type": "markdown",
   "metadata": {},
   "source": [
    "# Thibaut Marmey\n",
    "## Introduction TF"
   ]
  },
  {
   "cell_type": "markdown",
   "metadata": {},
   "source": [
    "#### Tester installation de tensorflow"
   ]
  },
  {
   "cell_type": "code",
   "execution_count": 1,
   "metadata": {
    "slideshow": {
     "slide_type": "-"
    }
   },
   "outputs": [
    {
     "name": "stdout",
     "output_type": "stream",
     "text": [
      "1.10.0\n"
     ]
    }
   ],
   "source": [
    "import tensorflow as tf; print(tf.__version__)"
   ]
  },
  {
   "cell_type": "code",
   "execution_count": 2,
   "metadata": {},
   "outputs": [
    {
     "name": "stdout",
     "output_type": "stream",
     "text": [
      "https://s3.amazonaws.com/cadl/celeb-align/000010.jpg\r"
     ]
    }
   ],
   "source": [
    "# Load the os library\n",
    "import os\n",
    "\n",
    "# Load the request module\n",
    "import urllib.request\n",
    "\n",
    "# Import SSL which we need to setup for talking to the HTTPS server\n",
    "import ssl\n",
    "ssl._create_default_https_context = ssl._create_unverified_context\n",
    "\n",
    "# Create a directory\n",
    "os.mkdir('img_align_celeba')\n",
    "\n",
    "# Now perform the following 10 times:\n",
    "for img_i in range(1, 11):\n",
    "\n",
    "    # create a string using the current loop counter\n",
    "    f = '000%03d.jpg' % img_i\n",
    "\n",
    "    # and get the url with that string appended the end\n",
    "    url = 'https://s3.amazonaws.com/cadl/celeb-align/' + f\n",
    "\n",
    "    # We'll print this out to the console so we can see how far we've gone\n",
    "    print(url, end='\\r')\n",
    "\n",
    "    # And now download the url to a location inside our new directory\n",
    "    urllib.request.urlretrieve(url, os.path.join('img_align_celeba', f))"
   ]
  },
  {
   "cell_type": "code",
   "execution_count": null,
   "metadata": {},
   "outputs": [],
   "source": []
  },
  {
   "cell_type": "code",
   "execution_count": null,
   "metadata": {},
   "outputs": [],
   "source": []
  },
  {
   "cell_type": "markdown",
   "metadata": {},
   "source": [
    "# qsfqsdf\n"
   ]
  },
  {
   "cell_type": "code",
   "execution_count": null,
   "metadata": {},
   "outputs": [],
   "source": []
  },
  {
   "cell_type": "code",
   "execution_count": null,
   "metadata": {},
   "outputs": [],
   "source": []
  },
  {
   "cell_type": "code",
   "execution_count": null,
   "metadata": {},
   "outputs": [],
   "source": []
  }
 ],
 "metadata": {
  "kernelspec": {
   "display_name": "Python 3",
   "language": "python",
   "name": "python3"
  },
  "language_info": {
   "codemirror_mode": {
    "name": "ipython",
    "version": 3
   },
   "file_extension": ".py",
   "mimetype": "text/x-python",
   "name": "python",
   "nbconvert_exporter": "python",
   "pygments_lexer": "ipython3",
   "version": "3.6.6"
  }
 },
 "nbformat": 4,
 "nbformat_minor": 2
}
